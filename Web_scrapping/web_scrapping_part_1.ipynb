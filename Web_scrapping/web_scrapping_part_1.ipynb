{
  "nbformat": 4,
  "nbformat_minor": 0,
  "metadata": {
    "colab": {
      "provenance": [],
      "gpuType": "T4",
      "authorship_tag": "ABX9TyMtK2dTc44uSBUBpgy+iDlI",
      "include_colab_link": true
    },
    "kernelspec": {
      "name": "python3",
      "display_name": "Python 3"
    },
    "language_info": {
      "name": "python"
    },
    "accelerator": "GPU"
  },
  "cells": [
    {
      "cell_type": "markdown",
      "metadata": {
        "id": "view-in-github",
        "colab_type": "text"
      },
      "source": [
        "<a href=\"https://colab.research.google.com/github/AllamElsheikh/Ai_Journey-/blob/main/web_scrapping_part_1.ipynb\" target=\"_parent\"><img src=\"https://colab.research.google.com/assets/colab-badge.svg\" alt=\"Open In Colab\"/></a>"
      ]
    },
    {
      "cell_type": "markdown",
      "source": [
        "# Get data"
      ],
      "metadata": {
        "id": "sU1D6pZmDa7m"
      }
    },
    {
      "cell_type": "code",
      "source": [
        "!pip install pyppeteer\n",
        "!pip install bs4\n",
        "!pip install playwright\n",
        "!playwright install\n",
        "!pip install playwright"
      ],
      "metadata": {
        "colab": {
          "base_uri": "https://localhost:8080/"
        },
        "collapsed": true,
        "id": "FNBEJcIxcb8K",
        "outputId": "c9064b77-16f5-4e11-c1b8-1454053b7c0e"
      },
      "execution_count": 1,
      "outputs": [
        {
          "output_type": "stream",
          "name": "stdout",
          "text": [
            "Requirement already satisfied: pyppeteer in /usr/local/lib/python3.10/dist-packages (2.0.0)\n",
            "Requirement already satisfied: appdirs<2.0.0,>=1.4.3 in /usr/local/lib/python3.10/dist-packages (from pyppeteer) (1.4.4)\n",
            "Requirement already satisfied: certifi>=2023 in /usr/local/lib/python3.10/dist-packages (from pyppeteer) (2024.8.30)\n",
            "Requirement already satisfied: importlib-metadata>=1.4 in /usr/local/lib/python3.10/dist-packages (from pyppeteer) (8.5.0)\n",
            "Collecting pyee<12.0.0,>=11.0.0 (from pyppeteer)\n",
            "  Using cached pyee-11.1.1-py3-none-any.whl.metadata (2.8 kB)\n",
            "Requirement already satisfied: tqdm<5.0.0,>=4.42.1 in /usr/local/lib/python3.10/dist-packages (from pyppeteer) (4.66.5)\n",
            "Requirement already satisfied: urllib3<2.0.0,>=1.25.8 in /usr/local/lib/python3.10/dist-packages (from pyppeteer) (1.26.20)\n",
            "Requirement already satisfied: websockets<11.0,>=10.0 in /usr/local/lib/python3.10/dist-packages (from pyppeteer) (10.4)\n",
            "Requirement already satisfied: zipp>=3.20 in /usr/local/lib/python3.10/dist-packages (from importlib-metadata>=1.4->pyppeteer) (3.20.2)\n",
            "Requirement already satisfied: typing-extensions in /usr/local/lib/python3.10/dist-packages (from pyee<12.0.0,>=11.0.0->pyppeteer) (4.12.2)\n",
            "Using cached pyee-11.1.1-py3-none-any.whl (15 kB)\n",
            "Installing collected packages: pyee\n",
            "  Attempting uninstall: pyee\n",
            "    Found existing installation: pyee 12.0.0\n",
            "    Uninstalling pyee-12.0.0:\n",
            "      Successfully uninstalled pyee-12.0.0\n",
            "\u001b[31mERROR: pip's dependency resolver does not currently take into account all the packages that are installed. This behaviour is the source of the following dependency conflicts.\n",
            "playwright 1.47.0 requires pyee==12.0.0, but you have pyee 11.1.1 which is incompatible.\u001b[0m\u001b[31m\n",
            "\u001b[0mSuccessfully installed pyee-11.1.1\n",
            "Requirement already satisfied: bs4 in /usr/local/lib/python3.10/dist-packages (0.0.2)\n",
            "Requirement already satisfied: beautifulsoup4 in /usr/local/lib/python3.10/dist-packages (from bs4) (4.12.3)\n",
            "Requirement already satisfied: soupsieve>1.2 in /usr/local/lib/python3.10/dist-packages (from beautifulsoup4->bs4) (2.6)\n",
            "Requirement already satisfied: playwright in /usr/local/lib/python3.10/dist-packages (1.47.0)\n",
            "Requirement already satisfied: greenlet==3.0.3 in /usr/local/lib/python3.10/dist-packages (from playwright) (3.0.3)\n",
            "Collecting pyee==12.0.0 (from playwright)\n",
            "  Using cached pyee-12.0.0-py3-none-any.whl.metadata (2.8 kB)\n",
            "Requirement already satisfied: typing-extensions in /usr/local/lib/python3.10/dist-packages (from pyee==12.0.0->playwright) (4.12.2)\n",
            "Using cached pyee-12.0.0-py3-none-any.whl (14 kB)\n",
            "Installing collected packages: pyee\n",
            "  Attempting uninstall: pyee\n",
            "    Found existing installation: pyee 11.1.1\n",
            "    Uninstalling pyee-11.1.1:\n",
            "      Successfully uninstalled pyee-11.1.1\n",
            "\u001b[31mERROR: pip's dependency resolver does not currently take into account all the packages that are installed. This behaviour is the source of the following dependency conflicts.\n",
            "pyppeteer 2.0.0 requires pyee<12.0.0,>=11.0.0, but you have pyee 12.0.0 which is incompatible.\u001b[0m\u001b[31m\n",
            "\u001b[0mSuccessfully installed pyee-12.0.0\n",
            "Playwright Host validation warning: \n",
            "╔══════════════════════════════════════════════════════╗\n",
            "║ Host system is missing dependencies to run browsers. ║\n",
            "║ Missing libraries:                                   ║\n",
            "║     libwoff2dec.so.1.0.2                             ║\n",
            "║     libgstgl-1.0.so.0                                ║\n",
            "║     libgstcodecparsers-1.0.so.0                      ║\n",
            "║     libharfbuzz-icu.so.0                             ║\n",
            "║     libenchant-2.so.2                                ║\n",
            "║     libsecret-1.so.0                                 ║\n",
            "║     libhyphen.so.0                                   ║\n",
            "║     libmanette-0.2.so.0                              ║\n",
            "╚══════════════════════════════════════════════════════╝\n",
            "    at validateDependenciesLinux (/usr/local/lib/python3.10/dist-packages/playwright/driver/package/lib/server/registry/dependencies.js:216:9)\n",
            "\u001b[90m    at process.processTicksAndRejections (node:internal/process/task_queues:95:5)\u001b[39m\n",
            "    at async Registry._validateHostRequirements (/usr/local/lib/python3.10/dist-packages/playwright/driver/package/lib/server/registry/index.js:626:43)\n",
            "    at async Registry._validateHostRequirementsForExecutableIfNeeded (/usr/local/lib/python3.10/dist-packages/playwright/driver/package/lib/server/registry/index.js:724:7)\n",
            "    at async Registry.validateHostRequirementsForExecutablesIfNeeded (/usr/local/lib/python3.10/dist-packages/playwright/driver/package/lib/server/registry/index.js:713:43)\n",
            "    at async t.<anonymous> (/usr/local/lib/python3.10/dist-packages/playwright/driver/package/lib/cli/program.js:119:7)\n",
            "Requirement already satisfied: playwright in /usr/local/lib/python3.10/dist-packages (1.47.0)\n",
            "Requirement already satisfied: greenlet==3.0.3 in /usr/local/lib/python3.10/dist-packages (from playwright) (3.0.3)\n",
            "Requirement already satisfied: pyee==12.0.0 in /usr/local/lib/python3.10/dist-packages (from playwright) (12.0.0)\n",
            "Requirement already satisfied: typing-extensions in /usr/local/lib/python3.10/dist-packages (from pyee==12.0.0->playwright) (4.12.2)\n"
          ]
        }
      ]
    },
    {
      "cell_type": "code",
      "execution_count": 2,
      "metadata": {
        "id": "lX7vA2dGQxgS"
      },
      "outputs": [],
      "source": [
        "import os\n",
        "from bs4 import BeautifulSoup as bsoup\n",
        "from playwright.async_api import async_playwright, TimeoutError as PlaywrightTimeout\n",
        "from pyppeteer import launch\n",
        "\n",
        "from pyppeteer.errors import TimeoutError as PyppeteerTimeoutError\n",
        "import time"
      ]
    },
    {
      "cell_type": "code",
      "source": [
        "SEASONS = list(range(2022,2024))\n",
        "SEASONS"
      ],
      "metadata": {
        "colab": {
          "base_uri": "https://localhost:8080/"
        },
        "id": "1zAloJyOYrGF",
        "outputId": "6bfae492-077a-418f-c9f9-3a286815661d"
      },
      "execution_count": 5,
      "outputs": [
        {
          "output_type": "execute_result",
          "data": {
            "text/plain": [
              "[2022, 2023]"
            ]
          },
          "metadata": {},
          "execution_count": 5
        }
      ]
    },
    {
      "cell_type": "code",
      "source": [
        "data_dir = \"data\"\n",
        "standings_dir = os.path.join(data_dir , \"standings\")\n",
        "scores = os.path.join(data_dir , \"scores\")"
      ],
      "metadata": {
        "id": "MexNv_x5Zbuh"
      },
      "execution_count": 6,
      "outputs": []
    },
    {
      "cell_type": "code",
      "source": [
        "async def html_getter(url , selector, sleep = 4 , retries =3 ):\n",
        "  html = None\n",
        "  for i in range (1 ,retries+1):\n",
        "    time.sleep(sleep * i)\n",
        "\n",
        "    try :\n",
        "      async with async_playwright() as p :\n",
        "        browser = await p.firefox.launch()\n",
        "        page = await browser.new_page()\n",
        "        await page.goto(url)\n",
        "        print(await page.title())\n",
        "        html = await page.inner_html(selector)\n",
        "    except PlaywrightTimeout:\n",
        "      print(f\"Timeout error on {url}\")\n",
        "      continue\n",
        "    else :\n",
        "      break\n",
        "  return html\n"
      ],
      "metadata": {
        "id": "S5k2nmELaEm0"
      },
      "execution_count": 40,
      "outputs": []
    },
    {
      "cell_type": "code",
      "source": [
        "async def season_scrapper(seasson):\n",
        "  url = f\"https://www.basketball-reference.com/leagues/NBA_{season}_games.html\"\n",
        "  html = await html_getter(url , \"#content .filter\")\n",
        "\n",
        "  soup = bsoup(html)\n",
        "  links = soup.find_all(\"a\")\n",
        "  hrefs = [l[\"href\"] for l in links]\n",
        "  standings_pages = [f\"https://Basketball-Reference.com{l}\" for l in hrefs]\n",
        "\n",
        "  for url in standings_pages :\n",
        "    save_path = os.path.join(standings_dir , url.split(\"/\")[-1])\n",
        "    if os.path.exists(save_path):\n",
        "       continue\n",
        "\n",
        "    html = await html_getter(url , \"#all_schedule\")\n",
        "    with open(save_path , \"w+\") as f :\n",
        "      f.write(html)"
      ],
      "metadata": {
        "id": "TTZ2srCCesAC"
      },
      "execution_count": 41,
      "outputs": []
    },
    {
      "cell_type": "code",
      "source": [
        "for season in SEASONS :\n",
        "  await season_scrapper(season)"
      ],
      "metadata": {
        "colab": {
          "base_uri": "https://localhost:8080/"
        },
        "collapsed": true,
        "id": "xsoPjB1jiFYc",
        "outputId": "d186d07e-b204-4ac0-dbad-49e9da3ac55f"
      },
      "execution_count": 7,
      "outputs": [
        {
          "output_type": "stream",
          "name": "stdout",
          "text": [
            "2019-20 NBA Schedule | Basketball-Reference.com\n",
            "2019-20 NBA Schedule | Basketball-Reference.com\n",
            "2019-20 NBA Schedule | Basketball-Reference.com\n",
            "2019-20 NBA Schedule | Basketball-Reference.com\n",
            "2019-20 NBA Schedule | Basketball-Reference.com\n",
            "2019-20 NBA Schedule | Basketball-Reference.com\n",
            "2019-20 NBA Schedule | Basketball-Reference.com\n",
            "2019-20 NBA Schedule | Basketball-Reference.com\n",
            "2019-20 NBA Schedule | Basketball-Reference.com\n",
            "2019-20 NBA Schedule | Basketball-Reference.com\n",
            "2020-21 NBA Schedule | Basketball-Reference.com\n",
            "2020-21 NBA Schedule | Basketball-Reference.com\n",
            "2020-21 NBA Schedule | Basketball-Reference.com\n",
            "2020-21 NBA Schedule | Basketball-Reference.com\n",
            "2020-21 NBA Schedule | Basketball-Reference.com\n",
            "2020-21 NBA Schedule | Basketball-Reference.com\n",
            "2020-21 NBA Schedule | Basketball-Reference.com\n",
            "2020-21 NBA Schedule | Basketball-Reference.com\n",
            "2020-21 NBA Schedule | Basketball-Reference.com\n",
            "2021-22 NBA Schedule | Basketball-Reference.com\n",
            "2021-22 NBA Schedule | Basketball-Reference.com\n",
            "2021-22 NBA Schedule | Basketball-Reference.com\n",
            "2021-22 NBA Schedule | Basketball-Reference.com\n",
            "2021-22 NBA Schedule | Basketball-Reference.com\n",
            "2021-22 NBA Schedule | Basketball-Reference.com\n",
            "2021-22 NBA Schedule | Basketball-Reference.com\n",
            "2021-22 NBA Schedule | Basketball-Reference.com\n",
            "2021-22 NBA Schedule | Basketball-Reference.com\n",
            "2021-22 NBA Schedule | Basketball-Reference.com\n",
            "2022-23 NBA Schedule | Basketball-Reference.com\n",
            "2022-23 NBA Schedule | Basketball-Reference.com\n",
            "2022-23 NBA Schedule | Basketball-Reference.com\n",
            "2022-23 NBA Schedule | Basketball-Reference.com\n",
            "2022-23 NBA Schedule | Basketball-Reference.com\n",
            "2022-23 NBA Schedule | Basketball-Reference.com\n",
            "2022-23 NBA Schedule | Basketball-Reference.com\n",
            "2022-23 NBA Schedule | Basketball-Reference.com\n",
            "2022-23 NBA Schedule | Basketball-Reference.com\n",
            "2022-23 NBA Schedule | Basketball-Reference.com\n"
          ]
        }
      ]
    },
    {
      "cell_type": "code",
      "source": [
        "%ls data"
      ],
      "metadata": {
        "colab": {
          "base_uri": "https://localhost:8080/"
        },
        "id": "OgUnaBzJurPh",
        "outputId": "9d52c613-03b9-4b0c-e347-050f64a02020"
      },
      "execution_count": 8,
      "outputs": [
        {
          "output_type": "stream",
          "name": "stdout",
          "text": [
            "\u001b[0m\u001b[01;34mscores\u001b[0m/  \u001b[01;34mstandings\u001b[0m/\n"
          ]
        }
      ]
    },
    {
      "cell_type": "code",
      "source": [
        "standings_files = os.listdir(standings_dir )\n",
        "standings_files"
      ],
      "metadata": {
        "colab": {
          "base_uri": "https://localhost:8080/"
        },
        "collapsed": true,
        "id": "qbhqaR4xiKQP",
        "outputId": "3fdd9237-4350-4f0f-d7bd-f313b6d90253"
      },
      "execution_count": 7,
      "outputs": [
        {
          "output_type": "execute_result",
          "data": {
            "text/plain": [
              "['NBA_2022_games-march.html',\n",
              " 'NBA_2020_games-september.html',\n",
              " 'NBA_2020_games-november.html',\n",
              " 'NBA_2020_games-december.html',\n",
              " 'NBA_2023_games-october.html',\n",
              " 'NBA_2022_games-january.html',\n",
              " 'NBA_2021_games-february.html',\n",
              " 'NBA_2022_games-november.html',\n",
              " 'NBA_2022_games-december.html',\n",
              " 'NBA_2021_games-june.html',\n",
              " 'NBA_2023_games-april.html',\n",
              " 'NBA_2023_games-december.html',\n",
              " 'NBA_2021_games-december.html',\n",
              " 'NBA_2022_games-april.html',\n",
              " 'NBA_2021_games-january.html',\n",
              " 'NBA_2023_games-january.html',\n",
              " 'NBA_2023_games-may.html',\n",
              " 'NBA_2020_games-july.html',\n",
              " 'NBA_2020_games-february.html',\n",
              " 'NBA_2023_games-february.html',\n",
              " 'NBA_2020_games-october.html',\n",
              " 'NBA_2021_games-may.html',\n",
              " 'NBA_2022_games-october.html',\n",
              " 'NBA_2023_games-november.html',\n",
              " 'NBA_2022_games-february.html',\n",
              " 'NBA_2021_games-july.html',\n",
              " 'NBA_2020_games-march.html',\n",
              " 'NBA_2023_games-june.html',\n",
              " 'NBA_2021_games-april.html',\n",
              " 'NBA_2020_games-august.html',\n",
              " 'NBA_2022_games-june.html',\n",
              " 'NBA_2021_games-march.html',\n",
              " 'NBA_2020_games-january.html',\n",
              " 'NBA_2022_games-may.html',\n",
              " 'NBA_2023_games-march.html']"
            ]
          },
          "metadata": {},
          "execution_count": 7
        }
      ]
    },
    {
      "cell_type": "code",
      "source": [
        "async def game_scrapper(standings_file):\n",
        "\n",
        "  with open(standings_file , \"r\") as f :\n",
        "    html = f.read()\n",
        "\n",
        "  soup = bsoup(html)\n",
        "  links = soup.find_all(\"a\")\n",
        "  hrefs = [l.get(\"href\") for l in links]\n",
        "  box_scores = [l for l in hrefs if l and \"boxscore\" in l and \".html\" in l]\n",
        "  box_scores = [f\"https://Basketball-Reference.com{l}\" for l in box_scores]\n",
        "\n",
        "  for url in box_scores :\n",
        "    save_path = os.path.join(scores , url.split(\"/\")[-1])\n",
        "    if os.path.exists(save_path):\n",
        "      continue\n",
        "\n",
        "    html = await html_getter(url , \"#content\")\n",
        "    if not html :\n",
        "      continue\n",
        "    with open(save_path , \"+w\") as f :\n",
        "      f.write(html)"
      ],
      "metadata": {
        "collapsed": true,
        "id": "rebBMXa4iNpG"
      },
      "execution_count": 71,
      "outputs": []
    },
    {
      "cell_type": "code",
      "source": [
        "standings_files = [s for s in standings_files if \".html\" in s ]"
      ],
      "metadata": {
        "id": "YXnrUNK7396l"
      },
      "execution_count": 53,
      "outputs": []
    },
    {
      "cell_type": "code",
      "source": [
        "import pandas as pd\n",
        "\n",
        "for season in SEASONS:\n",
        "    files = [s for s in standings_files if str(season) in s]\n",
        "\n",
        "    for f in files:\n",
        "        filepath = os.path.join(standings_dir, f)\n",
        "\n",
        "        await game_scrapper(filepath)"
      ],
      "metadata": {
        "id": "exf9YZ2XRAg8"
      },
      "execution_count": null,
      "outputs": []
    },
    {
      "cell_type": "markdown",
      "source": [
        "# Parsing data"
      ],
      "metadata": {
        "id": "cJetldm-GwtY"
      }
    },
    {
      "cell_type": "code",
      "source": [
        "box_scores = os.listdir(scores)"
      ],
      "metadata": {
        "id": "ldqbDWlLG7oB"
      },
      "execution_count": 73,
      "outputs": []
    },
    {
      "cell_type": "code",
      "source": [
        "box_scores[:5]"
      ],
      "metadata": {
        "colab": {
          "base_uri": "https://localhost:8080/"
        },
        "id": "aLL6rWlRHTyB",
        "outputId": "9aaffb5c-2677-4105-c5db-d09f02b6ecf6"
      },
      "execution_count": 75,
      "outputs": [
        {
          "output_type": "execute_result",
          "data": {
            "text/plain": [
              "['202203090MIL.html',\n",
              " '202203040PHI.html',\n",
              " '202203050MEM.html',\n",
              " '202203070DET.html',\n",
              " '202203030LAC.html']"
            ]
          },
          "metadata": {},
          "execution_count": 75
        }
      ]
    },
    {
      "cell_type": "code",
      "source": [
        "f.endwith"
      ],
      "metadata": {
        "id": "wjR_5oqeHs0l"
      },
      "execution_count": null,
      "outputs": []
    },
    {
      "cell_type": "code",
      "source": [
        "box_scores = [os.path.join(scores , f) for f in box_scores if f.endswith(\".html\")]"
      ],
      "metadata": {
        "id": "Q58KRBJVHUdb"
      },
      "execution_count": 79,
      "outputs": []
    },
    {
      "cell_type": "code",
      "source": [
        "box_scores[:5]"
      ],
      "metadata": {
        "colab": {
          "base_uri": "https://localhost:8080/"
        },
        "id": "mhHihw-kHpr6",
        "outputId": "b2049a8a-8997-4acb-b65f-7dd05e7163da"
      },
      "execution_count": 80,
      "outputs": [
        {
          "output_type": "execute_result",
          "data": {
            "text/plain": [
              "['data/scores/202203090MIL.html',\n",
              " 'data/scores/202203040PHI.html',\n",
              " 'data/scores/202203050MEM.html',\n",
              " 'data/scores/202203070DET.html',\n",
              " 'data/scores/202203030LAC.html']"
            ]
          },
          "metadata": {},
          "execution_count": 80
        }
      ]
    },
    {
      "cell_type": "code",
      "source": [
        "def parse_html(box_score):\n",
        "  with open(box_score , \"r\") as f :\n",
        "    html = f.read()\n",
        "\n",
        "  soup = bsoup(html)\n",
        "  [s.decompose() for s in soup.select(\"tr.over_header\")]\n",
        "  [s.decompose() for s in soup.select(\"tr.thead\")]\n",
        "  return soup"
      ],
      "metadata": {
        "id": "3p0uK3V6J2x_"
      },
      "execution_count": 81,
      "outputs": []
    },
    {
      "cell_type": "code",
      "source": [
        "def read_line(soup):\n",
        "    line_score = pd.read_html(str(soup), attrs = {'id': 'line_score'})[0]\n",
        "    cols = list(line_score.columns)\n",
        "    cols[0] = \"team\"\n",
        "    cols[-1] = \"total\"\n",
        "    line_score.columns = cols\n",
        "\n",
        "    line_score = line_score[[\"team\", \"total\"]]\n",
        "\n",
        "    return line_score"
      ],
      "metadata": {
        "id": "HVTxHqojKNGr"
      },
      "execution_count": 86,
      "outputs": []
    },
    {
      "cell_type": "code",
      "source": [
        "def read_stats(soup , team , stat) :\n",
        "  df = pd.read_html(str(soup) , attrs = {\"id\" : f\"box-{team}-game-{stat}\"} , index_col = 0)[0]\n",
        "  df = df.apply(pd.to_numeric , errors = \"coerce\")\n",
        "  return df"
      ],
      "metadata": {
        "id": "2NmkFk6JLIUJ"
      },
      "execution_count": 89,
      "outputs": []
    },
    {
      "cell_type": "code",
      "source": [
        "box_score = box_scores[0]\n",
        "soup = parse_html(box_score)\n",
        "line_score = read_line(soup)\n",
        "teams = list(line_score[\"team\"])\n",
        "summaries = []\n",
        "for t in teams :\n",
        "  basic = read_stats(soup , t , \"basic\")\n",
        "  advanced = read_stats(soup , t , \"advanced\")\n",
        "  total = pd.concat([basic.iloc[-1, :] , advanced.iloc[-1 , :]])\n",
        "  maxes = pd.concat()"
      ],
      "metadata": {
        "colab": {
          "base_uri": "https://localhost:8080/"
        },
        "id": "5ZQPnrQmH3lh",
        "outputId": "680166b0-5404-4df4-8905-5c44b298f136"
      },
      "execution_count": 93,
      "outputs": [
        {
          "output_type": "stream",
          "name": "stderr",
          "text": [
            "<ipython-input-86-faaf5f507331>:2: FutureWarning: Passing literal html to 'read_html' is deprecated and will be removed in a future version. To read from a literal string, wrap it in a 'StringIO' object.\n",
            "  line_score = pd.read_html(str(soup), attrs = {'id': 'line_score'})[0]\n",
            "<ipython-input-89-ac0d235af43c>:2: FutureWarning: Passing literal html to 'read_html' is deprecated and will be removed in a future version. To read from a literal string, wrap it in a 'StringIO' object.\n",
            "  df = pd.read_html(str(soup) , attrs = {\"id\" : f\"box-{team}-game-{stat}\"} , index_col = 0)[0]\n",
            "<ipython-input-89-ac0d235af43c>:2: FutureWarning: Passing literal html to 'read_html' is deprecated and will be removed in a future version. To read from a literal string, wrap it in a 'StringIO' object.\n",
            "  df = pd.read_html(str(soup) , attrs = {\"id\" : f\"box-{team}-game-{stat}\"} , index_col = 0)[0]\n",
            "<ipython-input-89-ac0d235af43c>:2: FutureWarning: Passing literal html to 'read_html' is deprecated and will be removed in a future version. To read from a literal string, wrap it in a 'StringIO' object.\n",
            "  df = pd.read_html(str(soup) , attrs = {\"id\" : f\"box-{team}-game-{stat}\"} , index_col = 0)[0]\n",
            "<ipython-input-89-ac0d235af43c>:2: FutureWarning: Passing literal html to 'read_html' is deprecated and will be removed in a future version. To read from a literal string, wrap it in a 'StringIO' object.\n",
            "  df = pd.read_html(str(soup) , attrs = {\"id\" : f\"box-{team}-game-{stat}\"} , index_col = 0)[0]\n"
          ]
        }
      ]
    },
    {
      "cell_type": "code",
      "source": [
        "games = []\n",
        "base_cols = None\n",
        "for box_score in box_scores:\n",
        "    soup = parse_html(box_score)\n",
        "\n",
        "    line_score = read_line_score(soup)\n",
        "    teams = list(line_score[\"team\"])\n",
        "\n",
        "    summaries = []\n",
        "    for team in teams:\n",
        "        basic = read_stats(soup, team, \"basic\")\n",
        "        advanced = read_stats(soup, team, \"advanced\")\n",
        "\n",
        "        totals = pd.concat([basic.iloc[-1,:], advanced.iloc[-1,:]])\n",
        "        totals.index = totals.index.str.lower()\n",
        "\n",
        "        maxes = pd.concat([basic.iloc[:-1].max(), advanced.iloc[:-1].max()])\n",
        "        maxes.index = maxes.index.str.lower() + \"_max\"\n",
        "\n",
        "        summary = pd.concat([totals, maxes])\n",
        "\n",
        "        if base_cols is None:\n",
        "            base_cols = list(summary.index.drop_duplicates(keep=\"first\"))\n",
        "            base_cols = [b for b in base_cols if \"bpm\" not in b]\n",
        "\n",
        "        summary = summary[base_cols]\n",
        "\n",
        "        summaries.append(summary)\n",
        "    summary = pd.concat(summaries, axis=1).T\n",
        "\n",
        "    game = pd.concat([summary, line_score], axis=1)\n",
        "\n",
        "    game[\"home\"] = [0,1]\n",
        "\n",
        "    game_opp = game.iloc[::-1].reset_index()\n",
        "    game_opp.columns += \"_opp\"\n",
        "\n",
        "    full_game = pd.concat([game, game_opp], axis=1)\n",
        "    full_game[\"season\"] = read_season_info(soup)\n",
        "\n",
        "    full_game[\"date\"] = os.path.basename(box_score)[:8]\n",
        "    full_game[\"date\"] = pd.to_datetime(full_game[\"date\"], format=\"%Y%m%d\")\n",
        "\n",
        "    full_game[\"won\"] = full_game[\"total\"] > full_game[\"total_opp\"]\n",
        "    games.append(full_game)\n",
        "\n",
        "    if len(games) % 100 == 0:\n",
        "        print(f\"{len(games)} / {len(box_scores)}\")"
      ],
      "metadata": {
        "id": "Ig2xLdG6RFTz"
      },
      "execution_count": null,
      "outputs": []
    },
    {
      "cell_type": "code",
      "source": [
        "games_df = pd.concat(games, ignore_index=True)\n",
        "games_df\n"
      ],
      "metadata": {
        "id": "XtqMuBFTKE9k"
      },
      "execution_count": null,
      "outputs": []
    },
    {
      "cell_type": "code",
      "source": [
        "games_df.to_csv(\"nba_games.csv\")\n"
      ],
      "metadata": {
        "id": "YwL1CtI8NYLF"
      },
      "execution_count": null,
      "outputs": []
    }
  ]
}
